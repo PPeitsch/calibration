{
 "cells": [
  {
   "cell_type": "markdown",
   "id": "e3ec06ba-bfc0-4c71-91d4-5efd462a0347",
   "metadata": {},
   "source": [
    "# **Procedimiento de calibración DSC**\n",
    "\n",
    "Frente a la necesidad de comenzar un nuevo proceso de calibración en el calorímetro DSC SETARAM, Labsys evo, se decide realizar el procedimiento elaborado en 2013 en un Notebook con la idea de introducir mejoras al mismo, si es posible.\n",
    "Comenzaremos repdroduciendo el modelo utilizado en las calibraciones anteriores pero bajo lenguaje Python, para posteriormente compararla con los resolutados obtenidos en MATLAB."
   ]
  },
  {
   "cell_type": "markdown",
   "id": "87f30e84-3612-40df-a2a2-806cfcbea1c0",
   "metadata": {},
   "source": [
    "## **Corrección en temperatura**\n",
    "___\n",
    "\n",
    "Para la calibración en temperatura se tomaron en cuenta simultáneamente los valores medidos de temperaturas de fusión y las velocidades de calentamiento utilizadas. Se construyó un sistema de ecuaciones lineales usando dichos valores medidos y velocidades seleccionadas como coeficientes conocidos, y los coeficientes de corrección como incógnitas que satisfacen las siguientes ecuaciones:\n",
    "\n",
    "dT=A0+A1.Te+A2.V+A3.V^2 (1)\n",
    "\n",
    "dT=Te–Treal (2)\n",
    "\n",
    "en donde\n",
    "\n",
    "A0, A1, A2 y A3 son los coeficientes de corrección, V: velocidad de calentamiento/enfriamiento, Te: temperatura medida, Treal: temperatura aceptada en literatura\n",
    "\n",
    "La expresión dada por la (ec. 1), especializada en los diferentes valores de velocidad de calentamiento utilizados y en las distintas temperaturas de inicio de transformación determinadas, da lugar a un sistema de ecuaciones que posee un número significativamente mayor de ecuaciones que de incógnitas. Esto es, un sistema de ecuaciones sobredeterminado. Estos sistemas no tienen solución; sin embargo, puede encontrarse una pseudosolución.\n",
    "Se optó por resolver el sistema de forma aproximada utilizando los métodos de mínimos cuadrados ordinarios y pseudoinversa de Moore-Penrose."
   ]
  },
  {
   "cell_type": "markdown",
   "id": "95fc3c4b-7b67-4f62-984a-29cf060212f7",
   "metadata": {},
   "source": [
    "## **Modelos de ajuste lineal**\n",
    "___\n",
    "\n",
    "La regresión lineal es un método estadístico que trata de modelar la relación entre una variable continua y una o más variables independientes mediante el ajuste de una ecuación lineal. Se llama regresión lineal simple cuando solo hay una variable independiente y regresión lineal múltiple cuando hay más de una. Dependiendo del contexto, a la variable modelada se le conoce como variable dependiente o variable respuesta, y a las variables independientes como regresores, predictores o features. [1]\n",
    "\n"
   ]
  },
  {
   "cell_type": "markdown",
   "id": "f4765518-3bf3-488e-8201-427e6e25cd15",
   "metadata": {},
   "source": [
    "## **Procedimiento en Python**\n",
    "___\n",
    "\n",
    "\n",
    "------> TESTO AQUI\n",
    "Importamos las variables desde una hoja de datos de Excel para luego procesarlas."
   ]
  },
  {
   "cell_type": "code",
   "execution_count": 1,
   "id": "927bba49-d79d-459d-8343-1074bd168f41",
   "metadata": {},
   "outputs": [],
   "source": [
    "# Dependencies import\n",
    "import numpy as np\n",
    "import pandas as pd\n",
    "\n",
    "# El resto acá\n",
    "#\n",
    "\n",
    "# Configuración warnings\n",
    "import warnings\n",
    "warnings.filterwarnings('ignore')"
   ]
  },
  {
   "cell_type": "code",
   "execution_count": 2,
   "id": "eaa4306c-e798-4287-9b3e-5c646d4ad68a",
   "metadata": {},
   "outputs": [
    {
     "name": "stdout",
     "output_type": "stream",
     "text": [
      "  Material   V       Te    Treal        S     H      m\n",
      "0       In   1  153.826  156.599  718.647  28.5  79.47\n",
      "1       In   5  153.829  156.599  716.907  28.5  79.47\n",
      "2       In  10  153.669  156.599  714.251  28.5  79.47\n",
      "3       In  20  153.137  156.599  691.163  28.5  79.47\n",
      "4       In  50  152.623  156.599  691.652  28.5  79.47\n"
     ]
    }
   ],
   "source": [
    "# Reading variables from the sheet\n",
    "df = pd.read_excel('resultados_v2.xlsx', sheet_name='Kb')\n",
    "\n",
    "# Checking the header imported\n",
    "print(df.head(5))\n",
    "\n",
    "# Generating NumPy Arrays\n",
    "dT = df.Te.to_numpy() - df.Treal.to_numpy()\n",
    "T = np.array([np.ones(dT.shape), df.Te.to_numpy(), df.V.to_numpy(), df.V.to_numpy() ** 2])"
   ]
  },
  {
   "cell_type": "markdown",
   "id": "f3a4e66a-6c38-47e9-a73a-2413a3c2317e",
   "metadata": {},
   "source": [
    "## Pseudoinversa Moore Penrose"
   ]
  },
  {
   "cell_type": "code",
   "execution_count": 3,
   "id": "c299c9e5-0a6f-428e-9ddf-4c7b863331c7",
   "metadata": {},
   "outputs": [
    {
     "name": "stdout",
     "output_type": "stream",
     "text": [
      "<class 'numpy.ndarray'> (92, 4) 368\n",
      "<class 'numpy.ndarray'> (92,) 92\n"
     ]
    }
   ],
   "source": [
    "# Penrose Matrix with NumPy array\n",
    "p = np.linalg.pinv(T)\n",
    "\n",
    "# Check dimensions\n",
    "print(type(p), np.shape(p), np.size(p))\n",
    "print(type(dT), np.shape(dT), np.size(dT))"
   ]
  },
  {
   "cell_type": "code",
   "execution_count": 4,
   "id": "e9b526fd-20a1-4c4f-b7de-495e79169635",
   "metadata": {},
   "outputs": [
    {
     "name": "stdout",
     "output_type": "stream",
     "text": [
      "<class 'numpy.ndarray'> (4, 92) 368\n",
      "Coefficients are:\n",
      "A0 = -5.13e+00\n",
      "A1 = 1.18e-03\n",
      "A2 = -6.33e-02\n",
      "A3 = 2.25e-04\n"
     ]
    }
   ],
   "source": [
    "# Transpose Penrose Matrix for array multiplication\n",
    "Tp = np.transpose(p)\n",
    "print(type(Tp), np.shape(Tp), np.size(Tp))\n",
    "\n",
    "# Multiplying matrix with NumPy array\n",
    "A = np.matmul(Tp, dT)\n",
    "\n",
    "# Show the coefficients\n",
    "print('Coefficients are:')\n",
    "for i in range(np.size(A)):\n",
    "    print(f'A{i} = {A[i]:.2e}')"
   ]
  },
  {
   "cell_type": "markdown",
   "id": "8046ab70-22f0-4265-98a2-7b1cf31c9200",
   "metadata": {},
   "source": [
    "## Mínimos cuadrados"
   ]
  },
  {
   "cell_type": "code",
   "execution_count": 5,
   "id": "812cbae8-b688-4b79-bbb8-669663ba290e",
   "metadata": {},
   "outputs": [
    {
     "name": "stdout",
     "output_type": "stream",
     "text": [
      "Coefficients are:\n",
      "A0 = -5.13e+00\n",
      "A1 = 1.18e-03\n",
      "A2 = -6.33e-02\n",
      "A3 = 2.25e-04\n"
     ]
    }
   ],
   "source": [
    "# Transpose original Matrix for array multiplication\n",
    "TT = np.transpose(T)\n",
    "\n",
    "# Obtaining coefficient through Least Squares\n",
    "X = np.linalg.lstsq(TT, dT, rcond = -1)\n",
    "\n",
    "# Show the coefficients\n",
    "print('Coefficients are:')\n",
    "for i in range(np.size(X)):\n",
    "    print(f'A{i} = {X[0][i]:.2e}')"
   ]
  },
  {
   "cell_type": "code",
   "execution_count": 6,
   "id": "e90c1d1a-a671-4bd6-b6a9-ae2a5c4fa18f",
   "metadata": {},
   "outputs": [
    {
     "data": {
      "image/png": "[encoded data removed]",
      "text/plain": [
       "<Figure size 864x552.96 with 1 Axes>"
      ]
     },
     "metadata": {
      "needs_background": "light"
     },
     "output_type": "display_data"
    }
   ],
   "source": [
    "# ==============================================================================\n",
    "# Gráficos\n",
    "# ==============================================================================\n",
    "import matplotlib.pyplot as plt\n",
    "from matplotlib import style\n",
    "import seaborn as sns\n",
    "\n",
    "# Gráfico del modelo\n",
    "#fig = plt.figure(figsize=(6, 3.84))\n",
    "fig = plt.figure(figsize=(12, 7.68))\n",
    "fig.patch.set_facecolor(\"#6D9EC1\")\n",
    "fig.patch.set_alpha(0.15)\n",
    "\n",
    "ax = fig.add_subplot()\n",
    "ax.patch.set_facecolor(\"#6D9EC1\")\n",
    "\n",
    "ax.scatter(df.Te.to_numpy(), dT, marker='o', color = \"blacK\", facecolor = \"orange\", label=\"dT\")\n",
    "ax.legend();"
   ]
  },
  {
   "cell_type": "markdown",
   "id": "3a33a2c3-7ecb-4229-aa2d-2f73ff4ac025",
   "metadata": {},
   "source": [
    "## **Corrección en calor (Q)**\n",
    "___\n",
    "\n",
    "Para la calibración en calor se consideró la constante de sensibilidad K, que define el factor de proporcionalidad entre el área del pico medida, entre la curva y la linea de base, y el calor asociado a la transformación que ésta describe.\n",
    "\n",
    "K = (S/H).(1/m) (3)\n",
    "\n",
    "\n",
    "K=A0+A1.Te+A2.Te^2+A3.Te^3+A4.Te^4 (4)\n",
    "\n",
    "siendo\n",
    "A0, A1, A2, A3 y A4 son los coeficientes de corrección, Te: temperatura medida, m: masa, H: calor de fusión, S: área de pico (μV.s)\n",
    "\n",
    "En este caso, los valores experimentales a considerar como coeficientes conocidos son Te y S.\n",
    "Se aplicó la misma metodología que para corrección en temperatura y se tuvieron en cuenta las mismas consideraciones anteriormente mencionadas."
   ]
  },
  {
   "cell_type": "code",
   "execution_count": 7,
   "id": "452c748f-8bca-44d8-9e30-5837310ba447",
   "metadata": {},
   "outputs": [
    {
     "name": "stdout",
     "output_type": "stream",
     "text": [
      "  Material   V       Te    Treal        S     H      m\n",
      "0       In   1  153.826  156.599  718.647  28.5  79.47\n",
      "1       In   5  153.829  156.599  716.907  28.5  79.47\n",
      "2       In  10  153.669  156.599  714.251  28.5  79.47\n",
      "3       In  20  153.137  156.599  691.163  28.5  79.47\n",
      "4       In  50  152.623  156.599  691.652  28.5  79.47\n"
     ]
    }
   ],
   "source": [
    "# Reading variables from the sheet\n",
    "df = pd.read_excel('resultados_v2.xlsx', sheet_name='Kb')\n",
    "\n",
    "# Checking the header imported\n",
    "print(df.head(5))\n",
    "\n",
    "# Generating NumPy Arrays\n",
    "Te = df.Te.to_numpy()\n",
    "H = df.H.to_numpy()\n",
    "S = df.S.to_numpy()\n",
    "m = df.m.to_numpy()\n",
    "K = (S/H)*(1/m)\n",
    "B = np.array([np.ones(Te.shape), Te, Te**2, Te**3, Te**4])"
   ]
  },
  {
   "cell_type": "markdown",
   "id": "743324e4-04d2-406a-966a-847fc111bff0",
   "metadata": {},
   "source": [
    "## Pseudoinversa Moore Penrose"
   ]
  },
  {
   "cell_type": "code",
   "execution_count": 8,
   "id": "10307fa2-ca6d-414d-8dd0-91dcc24e27f6",
   "metadata": {
    "tags": []
   },
   "outputs": [
    {
     "name": "stdout",
     "output_type": "stream",
     "text": [
      "<class 'numpy.ndarray'> (92, 5) 460\n",
      "<class 'numpy.ndarray'> (92,) 92\n"
     ]
    }
   ],
   "source": [
    "# Penrose Matrix with NumPy array\n",
    "pB = np.linalg.pinv(B)\n",
    "\n",
    "# Check dimensions\n",
    "print(type(pB), np.shape(pB), np.size(pB))\n",
    "print(type(K), np.shape(K), np.size(K))"
   ]
  },
  {
   "cell_type": "code",
   "execution_count": 9,
   "id": "1ddf78ba-8f49-497d-bfa0-c2a44242062d",
   "metadata": {},
   "outputs": [
    {
     "name": "stdout",
     "output_type": "stream",
     "text": [
      "<class 'numpy.ndarray'> (5, 92) 460\n",
      "Coefficients are:\n",
      "C0 = 3.1540e-01\n",
      "C1 = 6.5665e-05\n",
      "C2 = -8.7879e-07\n",
      "C3 = 1.1253e-09\n",
      "C4 = -4.1755e-13\n"
     ]
    }
   ],
   "source": [
    "# Transpose Penrose Matrix for array multiplication\n",
    "TpB = np.transpose(pB)\n",
    "print(type(TpB), np.shape(TpB), np.size(TpB))\n",
    "\n",
    "# Multiplying matrix with NumPy array\n",
    "C = np.matmul(TpB, K)\n",
    "\n",
    "# Show the coefficients\n",
    "print('Coefficients are:')\n",
    "for i in range(B.shape[0]):\n",
    "    print(f'C{i} = {C[i]:.4e}')"
   ]
  },
  {
   "cell_type": "markdown",
   "id": "cc59b0cb-c1f7-4b19-a757-138d5f29ff40",
   "metadata": {
    "tags": []
   },
   "source": [
    "## Mínimos cuadrados"
   ]
  },
  {
   "cell_type": "code",
   "execution_count": 10,
   "id": "79fcb970-00b4-4977-a973-759112295bb3",
   "metadata": {},
   "outputs": [
    {
     "name": "stdout",
     "output_type": "stream",
     "text": [
      "Coefficients are:\n",
      "D0 = 3.1540e-01\n",
      "D1 = 6.5679e-05\n",
      "D2 = -8.7883e-07\n",
      "D3 = 1.1253e-09\n",
      "D4 = -4.1756e-13\n"
     ]
    }
   ],
   "source": [
    "# Transpose original Matrix for array multiplication\n",
    "TB = np.transpose(B)\n",
    "\n",
    "# Obtaining coefficient through Least Squares\n",
    "D = np.linalg.lstsq(TB, K, rcond = -1)\n",
    "\n",
    "# Show the coefficients\n",
    "print('Coefficients are:')\n",
    "for u in range(B.shape[0]):\n",
    "    print(f'D{u} = {D[0][u]:.4e}')"
   ]
  },
  {
   "cell_type": "markdown",
   "id": "349d6300-82d0-4a34-9e1e-4264d181014e",
   "metadata": {
    "tags": []
   },
   "source": [
    "## Agregando dos datos, como límites teóricos"
   ]
  },
  {
   "cell_type": "code",
   "execution_count": 11,
   "id": "ebd25e12-451e-4fcf-88cf-04cd210c0946",
   "metadata": {},
   "outputs": [],
   "source": [
    "Te = np.append(Te,[-273.0],axis= 0)\n",
    "Te = np.append(Te,[1600],axis= 0)\n",
    "K = np.append(K,[0.0],axis= 0)\n",
    "K = np.append(K,[0.1],axis= 0)\n",
    "\n",
    "B = np.array([np.ones(Te.shape), Te, Te**2, Te**3, Te**4])"
   ]
  },
  {
   "cell_type": "markdown",
   "id": "6dada4ef-4a9e-4dd8-bcef-9219aed59415",
   "metadata": {},
   "source": [
    "## Pseudoinversa Moore Penrose"
   ]
  },
  {
   "cell_type": "code",
   "execution_count": 12,
   "id": "4c5f9300-9613-4723-b3af-2bee7e134bdc",
   "metadata": {
    "tags": []
   },
   "outputs": [
    {
     "name": "stdout",
     "output_type": "stream",
     "text": [
      "<class 'numpy.ndarray'> (94, 5) 470\n",
      "<class 'numpy.ndarray'> (94,) 94\n"
     ]
    }
   ],
   "source": [
    "# Penrose Matrix with NumPy array\n",
    "pB = np.linalg.pinv(B)\n",
    "\n",
    "# Check dimensions\n",
    "print(type(pB), np.shape(pB), np.size(pB))\n",
    "print(type(K), np.shape(K), np.size(K))"
   ]
  },
  {
   "cell_type": "code",
   "execution_count": 13,
   "id": "f16b6b2c-8599-40c0-a3b7-2cd167af21c9",
   "metadata": {},
   "outputs": [
    {
     "name": "stdout",
     "output_type": "stream",
     "text": [
      "<class 'numpy.ndarray'> (5, 94) 470\n",
      "Coefficients are:\n",
      "C0 = 2.7575e-01\n",
      "C1 = 3.9758e-04\n",
      "C2 = -1.6311e-06\n",
      "C3 = 1.7647e-09\n",
      "C4 = -5.9837e-13\n"
     ]
    }
   ],
   "source": [
    "# Transpose Penrose Matrix for array multiplication\n",
    "TpB = np.transpose(pB)\n",
    "print(type(TpB), np.shape(TpB), np.size(TpB))\n",
    "\n",
    "# Multiplying matrix with NumPy array\n",
    "C = np.matmul(TpB, K)\n",
    "\n",
    "# Show the coefficients\n",
    "print('Coefficients are:')\n",
    "for i in range(B.shape[0]):\n",
    "    print(f'C{i} = {C[i]:.4e}')"
   ]
  },
  {
   "cell_type": "code",
   "execution_count": 14,
   "id": "dda8fb17-1503-4e37-b45c-7612eaffe230",
   "metadata": {},
   "outputs": [
    {
     "data": {
      "image/png": "[encoded data removed]",
      "text/plain": [
       "<Figure size 864x552.96 with 1 Axes>"
      ]
     },
     "metadata": {
      "needs_background": "light"
     },
     "output_type": "display_data"
    }
   ],
   "source": [
    "# ==============================================================================\n",
    "# Gráficos\n",
    "# ==============================================================================\n",
    "\n",
    "# Gráfico del modelo\n",
    "#fig = plt.figure(figsize=(6, 3.84))\n",
    "fig = plt.figure(figsize=(12, 7.68))\n",
    "fig.patch.set_facecolor(\"#6D9EC1\")\n",
    "fig.patch.set_alpha(0.15)\n",
    "\n",
    "ax = fig.add_subplot()\n",
    "ax.patch.set_facecolor(\"#6D9EC1\")\n",
    "\n",
    "ax.scatter(Te, K, marker='o', color = \"blacK\", facecolor = \"orange\", label=\"Constante K\")\n",
    "ax.plot(Te, np.matmul(C, TpB), linestyle='--', color = \"blue\", label=\"Regresión\")\n",
    "ax.legend();"
   ]
  },
  {
   "cell_type": "code",
   "execution_count": 15,
   "id": "ac64730c-fa87-45df-84bf-299d268ffeae",
   "metadata": {},
   "outputs": [
    {
     "data": {
      "text/plain": [
       "array([ 153.826,  153.829,  153.669,  153.137,  152.623,  153.602,\n",
       "        153.695,  153.674,  153.601,  154.07 ,  153.804,  153.575,\n",
       "        153.188,  152.132,  150.895,  153.84 ,  153.525,  152.996,\n",
       "        152.43 ,  151.019,  227.554,  227.399,  227.288,  226.471,\n",
       "        225.691,  227.579,  227.493,  227.203,  226.684,  225.59 ,\n",
       "        227.585,  227.648,  227.527,  226.842,  225.701,  227.573,\n",
       "        227.476,  227.278,  226.671,  225.443,  652.989,  652.506,\n",
       "        652.325,  651.579,  650.074,  652.594,  652.607,  652.612,\n",
       "        652.064,  650.876,  651.349,  650.884,  651.21 ,  651.218,\n",
       "        651.715,  651.585,  651.689,  651.477,  651.426,  651.117,\n",
       "        953.57 ,  953.425,  953.197,  953.243,  953.666,  953.526,\n",
       "        953.439,  953.471,  953.258,  953.785,  953.264,  953.204,\n",
       "        953.037,  953.083,  953.563,  953.371,  953.314,  953.304,\n",
       "        953.24 ,  953.88 , 1536.572, 1536.84 , 1536.934, 1545.026,\n",
       "       1536.088, 1535.536, 1535.076, 1534.72 , 1533.125, 1533.08 ,\n",
       "       1531.946, 1530.156, -273.   , 1600.   ])"
      ]
     },
     "execution_count": 15,
     "metadata": {},
     "output_type": "execute_result"
    }
   ],
   "source": [
    "Te"
   ]
  },
  {
   "cell_type": "markdown",
   "id": "311cf75d-8d6d-4a14-b3e5-b38fb2c36f44",
   "metadata": {},
   "source": [
    "___"
   ]
  },
  {
   "cell_type": "markdown",
   "id": "2304a31b-1c17-4a8d-9afe-dd5716141d43",
   "metadata": {},
   "source": [
    "### Está bien todo lo que sigue?"
   ]
  },
  {
   "cell_type": "markdown",
   "id": "5f6295c9-6137-4e91-b20f-7d463726053e",
   "metadata": {},
   "source": [
    "## **Modelos de regresión lineal en Python**\n",
    "\n",
    "Dos de las implementaciones de modelos de regresión lineal más utilizadas en Python son: scikit-learn y statsmodels. Aunque ambas están muy optimizadas, Scikit-learn está orientada principalmente a la predicción, por lo que no dispone de apenas funcionalidades que muestren las muchas características del modelo que se deben analizar para hacer inferencia. Statsmodels es mucho más completo en este sentido. [1]"
   ]
  },
  {
   "cell_type": "code",
   "execution_count": 16,
   "id": "42387347-f08d-4482-b745-0592311674dc",
   "metadata": {},
   "outputs": [
    {
     "name": "stdout",
     "output_type": "stream",
     "text": [
      "Coeficiente de correlación de Pearson:  -0.834052660344055\n",
      "P-value:  1.7031386441427702e-25\n"
     ]
    }
   ],
   "source": [
    "from scipy.stats import pearsonr\n",
    "\n",
    "# Correlación lineal entre las variables\n",
    "corr_test = pearsonr(x = Te, y =  K)\n",
    "print(\"Coeficiente de correlación de Pearson: \", corr_test[0])\n",
    "print(\"P-value: \", corr_test[1])"
   ]
  },
  {
   "cell_type": "code",
   "execution_count": 17,
   "id": "67ff2225-1047-4601-b400-21ad973fdb3c",
   "metadata": {},
   "outputs": [
    {
     "data": {
      "text/plain": [
       "LinearRegression()"
      ]
     },
     "execution_count": 17,
     "metadata": {},
     "output_type": "execute_result"
    }
   ],
   "source": [
    "from sklearn.model_selection import train_test_split\n",
    "from sklearn.metrics import r2_score\n",
    "from sklearn.metrics import mean_squared_error\n",
    "from sklearn.linear_model import LinearRegression\n",
    "\n",
    "# Creación del modelo\n",
    "#modelo = LinearRegression()\n",
    "#modelo.fit(T, dT)\n",
    "\n",
    "df_Te = pd.DataFrame(Te)\n",
    "df_dT = pd.DataFrame(K)\n",
    "\n",
    "X_train, X_test, y_train, y_test = train_test_split(\n",
    "                                        df_Te.values.reshape(-1,1),\n",
    "                                        df_dT.values.reshape(-1,1),\n",
    "                                        train_size   = 0.8,\n",
    "                                        random_state = 1234,\n",
    "                                        shuffle      = True\n",
    "                                    )\n",
    "\n",
    "# Creación del modelo\n",
    "# ==============================================================================\n",
    "modelo = LinearRegression()\n",
    "modelo.fit(X = X_train.reshape(-1, 1), y = y_train)"
   ]
  },
  {
   "cell_type": "code",
   "execution_count": 18,
   "id": "be002ed9-bccb-4b3c-aecb-7df7a6e97c16",
   "metadata": {},
   "outputs": [
    {
     "name": "stdout",
     "output_type": "stream",
     "text": [
      "Intercept: [0.31464193]\n",
      "Coeficiente: [(153.826, -0.0001265678580039002)]\n",
      "Coeficiente de determinación R^2: 0.6950787263995024\n"
     ]
    }
   ],
   "source": [
    "# ==============================================================================\n",
    "# Información del modelo\n",
    "# ==============================================================================\n",
    "print(\"Intercept:\", modelo.intercept_)\n",
    "print(\"Coeficiente:\", list(zip(Te, modelo.coef_.flatten(), )))\n",
    "print(\"Coeficiente de determinación R^2:\", modelo.score(Te.reshape(-1, 1), K))"
   ]
  },
  {
   "cell_type": "code",
   "execution_count": 19,
   "id": "90cd4545-3c83-48dc-aeb5-37ae7ee54c49",
   "metadata": {},
   "outputs": [
    {
     "data": {
      "text/plain": [
       "<matplotlib.collections.PathCollection at 0x26b05b7e5e0>"
      ]
     },
     "execution_count": 19,
     "metadata": {},
     "output_type": "execute_result"
    }
   ],
   "source": [
    "ax.scatter(X_train.reshape(-1, 1), y = y_train)"
   ]
  },
  {
   "cell_type": "code",
   "execution_count": 20,
   "id": "af325f99-2b5c-4943-9a3a-de9aaa8f8fb8",
   "metadata": {},
   "outputs": [
    {
     "name": "stdout",
     "output_type": "stream",
     "text": [
      "[[0.23199451]\n",
      " [0.12060328]\n",
      " [0.12074681]]\n",
      "\n",
      "El error (rmse) de test es: 0.02449282037018572\n"
     ]
    }
   ],
   "source": [
    "# ==============================================================================\n",
    "# Error de test del modelo \n",
    "# ==============================================================================\n",
    "predicciones = modelo.predict(X = X_test)\n",
    "print(predicciones[0:3,])\n",
    "\n",
    "rmse = mean_squared_error(\n",
    "        y_true  = y_test,\n",
    "        y_pred  = predicciones,\n",
    "        squared = False\n",
    "       )\n",
    "print(\"\")\n",
    "print(f\"El error (rmse) de test es: {rmse}\")"
   ]
  },
  {
   "cell_type": "code",
   "execution_count": 21,
   "id": "39b6cbf4-e932-4996-8c34-c161c38671b6",
   "metadata": {},
   "outputs": [
    {
     "data": {
      "text/plain": [
       "(94,)"
      ]
     },
     "execution_count": 21,
     "metadata": {},
     "output_type": "execute_result"
    }
   ],
   "source": [
    "Te.shape"
   ]
  },
  {
   "cell_type": "code",
   "execution_count": 22,
   "id": "1f7e7e42-4f84-45ed-a7c8-e82ff7e832d0",
   "metadata": {},
   "outputs": [
    {
     "data": {
      "text/plain": [
       "(19, 1)"
      ]
     },
     "execution_count": 22,
     "metadata": {},
     "output_type": "execute_result"
    }
   ],
   "source": [
    "y_test.shape"
   ]
  },
  {
   "cell_type": "code",
   "execution_count": 23,
   "id": "894b3678-8a01-4756-b122-c972026dea28",
   "metadata": {},
   "outputs": [
    {
     "data": {
      "text/plain": [
       "(75, 1)"
      ]
     },
     "execution_count": 23,
     "metadata": {},
     "output_type": "execute_result"
    }
   ],
   "source": [
    "y_train.shape"
   ]
  },
  {
   "cell_type": "code",
   "execution_count": 24,
   "id": "18d81ec0-e066-4e58-b2f6-e8fffacff60e",
   "metadata": {},
   "outputs": [
    {
     "data": {
      "text/plain": [
       "(19, 1)"
      ]
     },
     "execution_count": 24,
     "metadata": {},
     "output_type": "execute_result"
    }
   ],
   "source": [
    "predicciones.shape"
   ]
  },
  {
   "cell_type": "code",
   "execution_count": 25,
   "id": "1a506a45-ef68-407e-bdc0-ee7b46b8d0cb",
   "metadata": {},
   "outputs": [
    {
     "data": {
      "text/plain": [
       "[<matplotlib.lines.Line2D at 0x26b06216be0>]"
      ]
     },
     "execution_count": 25,
     "metadata": {},
     "output_type": "execute_result"
    },
    {
     "data": {
      "image/png": "[encoded data removed]",
      "text/plain": [
       "<Figure size 864x552.96 with 1 Axes>"
      ]
     },
     "metadata": {
      "needs_background": "light"
     },
     "output_type": "display_data"
    }
   ],
   "source": [
    "# Gráfico del modelo\n",
    "#fig = plt.figure(figsize=(6, 3.84))\n",
    "fig = plt.figure(figsize=(12, 7.68))\n",
    "fig.patch.set_facecolor(\"#6D9EC1\")\n",
    "fig.patch.set_alpha(0.15)\n",
    "\n",
    "ax = fig.add_subplot()\n",
    "ax.patch.set_facecolor(\"#6D9EC1\")\n",
    "ax.scatter(Te, K, marker='o', color = \"blacK\", facecolor = \"orange\")\n",
    "ax.plot(X_test, predicciones, linestyle='--', color = \"blue\")"
   ]
  },
  {
   "cell_type": "markdown",
   "id": "3c6c7599-c3b5-45c5-b32a-e90754844016",
   "metadata": {},
   "source": [
    "## **Statsmodels**\n",
    "### La implementación de regresión lineal de Statsmodels, es más completa que la de Scikitlearn ya que, además de ajustar el modelo, permite calcular los test estadísticos y análisis necesarios para verificar que se cumplen las condiciones sobre las que se basa este tipo de modelos. Statsmodels tiene dos formas de entrenar el modelo:\n",
    "    Indicando la fórmula del modelo y pasando los datos de entrenamiento como un dataframe que incluye la variable respuesta y los predictores. Esta forma es similar a la utilizada en R.\n",
    "    Pasar dos matrices, una con los predictores y otra con la variable respuesta. Esta es igual a la empleada por Scikitlearn con la diferencia de que a la matriz de predictores hay que añadirle una primera columna de 1s.\n"
   ]
  },
  {
   "cell_type": "code",
   "execution_count": 26,
   "id": "f4f76799-2b10-46a9-8eba-f2e64c2a45b1",
   "metadata": {},
   "outputs": [
    {
     "name": "stdout",
     "output_type": "stream",
     "text": [
      "                            OLS Regression Results                            \n",
      "==============================================================================\n",
      "Dep. Variable:                      y   R-squared:                       0.643\n",
      "Model:                            OLS   Adj. R-squared:                  0.638\n",
      "Method:                 Least Squares   F-statistic:                     131.7\n",
      "Date:                Mon, 25 Jul 2022   Prob (F-statistic):           5.25e-18\n",
      "Time:                        13:14:51   Log-Likelihood:                 127.19\n",
      "No. Observations:                  75   AIC:                            -250.4\n",
      "Df Residuals:                      73   BIC:                            -245.7\n",
      "Df Model:                           1                                         \n",
      "Covariance Type:            nonrobust                                         \n",
      "==============================================================================\n",
      "                 coef    std err          t      P>|t|      [0.025      0.975]\n",
      "------------------------------------------------------------------------------\n",
      "const          0.3146      0.008     38.136      0.000       0.298       0.331\n",
      "x1            -0.0001    1.1e-05    -11.474      0.000      -0.000      -0.000\n",
      "==============================================================================\n",
      "Omnibus:                      139.288   Durbin-Watson:                   1.894\n",
      "Prob(Omnibus):                  0.000   Jarque-Bera (JB):             7768.740\n",
      "Skew:                          -6.519   Prob(JB):                         0.00\n",
      "Kurtosis:                      51.125   Cond. No.                     1.19e+03\n",
      "==============================================================================\n",
      "\n",
      "Notes:\n",
      "[1] Standard Errors assume that the covariance matrix of the errors is correctly specified.\n",
      "[2] The condition number is large, 1.19e+03. This might indicate that there are\n",
      "strong multicollinearity or other numerical problems.\n"
     ]
    }
   ],
   "source": [
    "import statsmodels.api as sm\n",
    "import statsmodels.formula.api as smf\n",
    "# ==============================================================================\n",
    "# Creación del modelo utilizando matrices como en scikitlearn\n",
    "# ==============================================================================\n",
    "# A la matriz de predictores se le tiene que añadir una columna de 1s para el intercept del modelo\n",
    "X_train = sm.add_constant(X_train, prepend=True)\n",
    "modelo = sm.OLS(endog=y_train, exog=X_train,)\n",
    "modelo = modelo.fit()\n",
    "print(modelo.summary())"
   ]
  },
  {
   "cell_type": "markdown",
   "id": "866bdb0d-06cc-4146-8ee7-92a01311d37a",
   "metadata": {},
   "source": [
    "## **Intervalos de confianza de los coeficientes**"
   ]
  },
  {
   "cell_type": "code",
   "execution_count": 27,
   "id": "283d55cd-8929-4ea0-b29e-93ae467ba56f",
   "metadata": {},
   "outputs": [
    {
     "data": {
      "text/plain": [
       "array([[ 2.98198492e-01,  3.31085372e-01],\n",
       "       [-1.48551927e-04, -1.04583789e-04]])"
      ]
     },
     "execution_count": 27,
     "metadata": {},
     "output_type": "execute_result"
    }
   ],
   "source": [
    "# ==============================================================================\n",
    "# Intervalos de confianza para los coeficientes del modelo\n",
    "# ==============================================================================\n",
    "modelo.conf_int(alpha=0.05)"
   ]
  },
  {
   "cell_type": "markdown",
   "id": "62d5e587-7d13-4d23-8a27-db78a371439a",
   "metadata": {},
   "source": [
    "## **Predicciones**\n",
    "\n",
    "### Una vez entrenado el modelo, se pueden obtener predicciones para nuevos datos. Los modelos de statsmodels permiten calcular las predicciones de dos formas:\n",
    "    .predict(): devuelve únicamente el valor de las predicciones.\n",
    "    .get_prediction().summary_frame(): devuelve, además de las predicciones, los intervalos de confianza asociados."
   ]
  },
  {
   "cell_type": "code",
   "execution_count": 28,
   "id": "8b051bbb-c74d-45bd-a0f5-3b661b0049b3",
   "metadata": {},
   "outputs": [
    {
     "data": {
      "text/html": [
       "<div>\n",
       "<style scoped>\n",
       "    .dataframe tbody tr th:only-of-type {\n",
       "        vertical-align: middle;\n",
       "    }\n",
       "\n",
       "    .dataframe tbody tr th {\n",
       "        vertical-align: top;\n",
       "    }\n",
       "\n",
       "    .dataframe thead th {\n",
       "        text-align: right;\n",
       "    }\n",
       "</style>\n",
       "<table border=\"1\" class=\"dataframe\">\n",
       "  <thead>\n",
       "    <tr style=\"text-align: right;\">\n",
       "      <th></th>\n",
       "      <th>mean</th>\n",
       "      <th>mean_se</th>\n",
       "      <th>mean_ci_lower</th>\n",
       "      <th>mean_ci_upper</th>\n",
       "      <th>obs_ci_lower</th>\n",
       "      <th>obs_ci_upper</th>\n",
       "    </tr>\n",
       "  </thead>\n",
       "  <tbody>\n",
       "    <tr>\n",
       "      <th>0</th>\n",
       "      <td>0.285931</td>\n",
       "      <td>0.006501</td>\n",
       "      <td>0.272975</td>\n",
       "      <td>0.298887</td>\n",
       "      <td>0.195328</td>\n",
       "      <td>0.376535</td>\n",
       "    </tr>\n",
       "    <tr>\n",
       "      <th>1</th>\n",
       "      <td>0.285851</td>\n",
       "      <td>0.006496</td>\n",
       "      <td>0.272903</td>\n",
       "      <td>0.298798</td>\n",
       "      <td>0.195248</td>\n",
       "      <td>0.376453</td>\n",
       "    </tr>\n",
       "    <tr>\n",
       "      <th>2</th>\n",
       "      <td>0.295325</td>\n",
       "      <td>0.007023</td>\n",
       "      <td>0.281327</td>\n",
       "      <td>0.309322</td>\n",
       "      <td>0.204566</td>\n",
       "      <td>0.386083</td>\n",
       "    </tr>\n",
       "    <tr>\n",
       "      <th>3</th>\n",
       "      <td>0.295175</td>\n",
       "      <td>0.007014</td>\n",
       "      <td>0.281195</td>\n",
       "      <td>0.309155</td>\n",
       "      <td>0.204420</td>\n",
       "      <td>0.385931</td>\n",
       "    </tr>\n",
       "  </tbody>\n",
       "</table>\n",
       "</div>"
      ],
      "text/plain": [
       "       mean   mean_se  mean_ci_lower  mean_ci_upper  obs_ci_lower  \\\n",
       "0  0.285931  0.006501       0.272975       0.298887      0.195328   \n",
       "1  0.285851  0.006496       0.272903       0.298798      0.195248   \n",
       "2  0.295325  0.007023       0.281327       0.309322      0.204566   \n",
       "3  0.295175  0.007014       0.281195       0.309155      0.204420   \n",
       "\n",
       "   obs_ci_upper  \n",
       "0      0.376535  \n",
       "1      0.376453  \n",
       "2      0.386083  \n",
       "3      0.385931  "
      ]
     },
     "execution_count": 28,
     "metadata": {},
     "output_type": "execute_result"
    }
   ],
   "source": [
    "# ==============================================================================\n",
    "# Predicciones con intervalo de confianza del 95%\n",
    "# ==============================================================================\n",
    "predicciones = modelo.get_prediction(exog = X_train).summary_frame(alpha=0.05)\n",
    "predicciones.head(4)"
   ]
  },
  {
   "cell_type": "markdown",
   "id": "0d2490df-f504-4e74-9f85-8891d305ad90",
   "metadata": {},
   "source": [
    "## **Representación gráfica del modelo**\n",
    "### Además de la línea de mínimos cuadrados, es recomendable incluir los límites superior e inferior del intervalo de confianza. Esto permite identificar la región en la que, según el modelo generado y para un determinado nivel de confianza, se encuentra el valor promedio de la variable respuesta."
   ]
  },
  {
   "cell_type": "code",
   "execution_count": 29,
   "id": "b9eb4674-9502-44aa-8677-78e03625eca7",
   "metadata": {},
   "outputs": [
    {
     "data": {
      "image/png": "[encoded data removed]",
      "text/plain": [
       "<Figure size 864x552.96 with 1 Axes>"
      ]
     },
     "metadata": {
      "needs_background": "light"
     },
     "output_type": "display_data"
    }
   ],
   "source": [
    "# ==============================================================================\n",
    "# Predicciones con intervalo de confianza del 95%\n",
    "# ==============================================================================\n",
    "predicciones = modelo.get_prediction(exog = X_train).summary_frame(alpha=0.05)\n",
    "predicciones['x'] = X_train[:, 1]\n",
    "predicciones['y'] = y_train\n",
    "predicciones = predicciones.sort_values('x')\n",
    "\n",
    "# ==============================================================================\n",
    "# Gráfico del modelo\n",
    "# ==============================================================================\n",
    "fig, ax = plt.subplots(figsize=(12, 7.68))\n",
    "\n",
    "ax.scatter(predicciones['x'], predicciones['y'], marker='o', color = \"gray\")\n",
    "ax.plot(predicciones['x'], predicciones[\"mean\"], linestyle='-', label=\"OLS\")\n",
    "ax.plot(predicciones['x'], predicciones[\"mean_ci_lower\"], linestyle='--', color='red', label=\"95% CI\")\n",
    "ax.plot(predicciones['x'], predicciones[\"mean_ci_upper\"], linestyle='--', color='red')\n",
    "ax.fill_between(predicciones['x'], predicciones[\"mean_ci_lower\"], predicciones[\"mean_ci_upper\"], alpha=0.1)\n",
    "ax.legend();"
   ]
  },
  {
   "cell_type": "markdown",
   "id": "aff4d4c0-f145-48dd-b6ad-78e5b39a9a3e",
   "metadata": {},
   "source": [
    "## **Prueba con formula**\n",
    "### Scikit-Learn - Statsmodels.BetaModel"
   ]
  },
  {
   "cell_type": "code",
   "execution_count": 30,
   "id": "313e9717-3700-46f4-8f9b-0998143c82bf",
   "metadata": {},
   "outputs": [
    {
     "ename": "SyntaxError",
     "evalue": "invalid syntax (<unknown>, line 1)",
     "output_type": "error",
     "traceback": [
      "Traceback \u001b[1;36m(most recent call last)\u001b[0m:\n",
      "  File \u001b[0;32m~\\anaconda3\\envs\\dsc-calibration\\lib\\site-packages\\IPython\\core\\interactiveshell.py:3397\u001b[0m in \u001b[0;35mrun_code\u001b[0m\n    exec(code_obj, self.user_global_ns, self.user_ns)\n",
      "  Input \u001b[0;32mIn [30]\u001b[0m in \u001b[0;35m<cell line: 13>\u001b[0m\n    model = BetaModel.from_formula(\"lambda K,x: Te + Te^2 + Te^3 + Te^4\", Te, family = sm.families.Gaussian(link=sm.families.links.identity()))\n",
      "  File \u001b[0;32m~\\anaconda3\\envs\\dsc-calibration\\lib\\site-packages\\statsmodels\\othermod\\betareg.py:150\u001b[0m in \u001b[0;35mfrom_formula\u001b[0m\n    return super(BetaModel, cls).from_formula(formula, data, *args,\n",
      "  File \u001b[0;32m~\\anaconda3\\envs\\dsc-calibration\\lib\\site-packages\\statsmodels\\base\\model.py:200\u001b[0m in \u001b[0;35mfrom_formula\u001b[0m\n    tmp = handle_formula_data(data, None, formula, depth=eval_env,\n",
      "  File \u001b[0;32m~\\anaconda3\\envs\\dsc-calibration\\lib\\site-packages\\statsmodels\\formula\\formulatools.py:66\u001b[0m in \u001b[0;35mhandle_formula_data\u001b[0m\n    result = dmatrices(formula, Y, depth, return_type='dataframe',\n",
      "  File \u001b[0;32m~\\anaconda3\\envs\\dsc-calibration\\lib\\site-packages\\patsy\\highlevel.py:309\u001b[0m in \u001b[0;35mdmatrices\u001b[0m\n    (lhs, rhs) = _do_highlevel_design(formula_like, data, eval_env,\n",
      "  File \u001b[0;32m~\\anaconda3\\envs\\dsc-calibration\\lib\\site-packages\\patsy\\highlevel.py:164\u001b[0m in \u001b[0;35m_do_highlevel_design\u001b[0m\n    design_infos = _try_incr_builders(formula_like, data_iter_maker, eval_env,\n",
      "  File \u001b[0;32m~\\anaconda3\\envs\\dsc-calibration\\lib\\site-packages\\patsy\\highlevel.py:66\u001b[0m in \u001b[0;35m_try_incr_builders\u001b[0m\n    return design_matrix_builders([formula_like.lhs_termlist,\n",
      "  File \u001b[0;32m~\\anaconda3\\envs\\dsc-calibration\\lib\\site-packages\\patsy\\build.py:689\u001b[0m in \u001b[0;35mdesign_matrix_builders\u001b[0m\n    factor_states = _factors_memorize(all_factors, data_iter_maker, eval_env)\n",
      "  File \u001b[0;32m~\\anaconda3\\envs\\dsc-calibration\\lib\\site-packages\\patsy\\build.py:354\u001b[0m in \u001b[0;35m_factors_memorize\u001b[0m\n    which_pass = factor.memorize_passes_needed(state, eval_env)\n",
      "  File \u001b[0;32m~\\anaconda3\\envs\\dsc-calibration\\lib\\site-packages\\patsy\\eval.py:474\u001b[0m in \u001b[0;35mmemorize_passes_needed\u001b[0m\n    subset_names = [name for name in ast_names(self.code)\n",
      "  File \u001b[0;32m~\\anaconda3\\envs\\dsc-calibration\\lib\\site-packages\\patsy\\eval.py:474\u001b[0m in \u001b[0;35m<listcomp>\u001b[0m\n    subset_names = [name for name in ast_names(self.code)\n",
      "  File \u001b[0;32m~\\anaconda3\\envs\\dsc-calibration\\lib\\site-packages\\patsy\\eval.py:105\u001b[0m in \u001b[0;35mast_names\u001b[0m\n    for node in ast.walk(ast.parse(code)):\n",
      "\u001b[1;36m  File \u001b[1;32m~\\anaconda3\\envs\\dsc-calibration\\lib\\ast.py:50\u001b[1;36m in \u001b[1;35mparse\u001b[1;36m\u001b[0m\n\u001b[1;33m    return compile(source, filename, mode, flags,\u001b[0m\n",
      "\u001b[1;36m  File \u001b[1;32m<unknown>:1\u001b[1;36m\u001b[0m\n\u001b[1;33m    lambda K, x\u001b[0m\n\u001b[1;37m               ^\u001b[0m\n\u001b[1;31mSyntaxError\u001b[0m\u001b[1;31m:\u001b[0m invalid syntax\n"
     ]
    }
   ],
   "source": [
    "import statsmodels.api as sm\n",
    "import statsmodels.formula.api as smf\n",
    "from statsmodels.othermod.betareg import BetaModel\n",
    "\n",
    "#model = smf.glm(formula = formula, data=df, family=sm.families.Binomial())\n",
    "Z = [K, Te]\n",
    "\n",
    "def myFormula(K, x):\n",
    "    return lambda K,x: (K, Te + I(Te)^2 + I(Te)^3 + Te^4)\n",
    "\n",
    "\n",
    "#formula = lambda K,x: Te + Te^2 + Te^3 + Te^4 = K\n",
    "model = BetaModel.from_formula(\"lambda K,x: Te + Te^2 + Te^3 + Te^4\", Te, family = sm.families.Gaussian(link=sm.families.links.identity()))\n",
    "rslt = model.fit()"
   ]
  },
  {
   "cell_type": "code",
   "execution_count": null,
   "id": "41c5b2d9-7442-41c7-a28c-a85982170f4c",
   "metadata": {},
   "outputs": [],
   "source": [
    "# A la matriz de predictores se le tiene que añadir una columna de 1s para el intercept del modelo\n",
    "X_train = sm.add_constant(X_train, prepend=True)\n",
    "modelo = sm.OLS(endog=y_train, exog=X_train,)\n",
    "modelo = modelo.fit()\n",
    "print(modelo.summary())"
   ]
  },
  {
   "cell_type": "markdown",
   "id": "22a881fd-346d-4ab1-b72a-b30904bc6017",
   "metadata": {},
   "source": [
    "### probando"
   ]
  },
  {
   "cell_type": "code",
   "execution_count": null,
   "id": "d1d068ed-8489-46c3-8ee2-a99577894ceb",
   "metadata": {},
   "outputs": [],
   "source": [
    "Teee = Te.reshape(-1, 1)"
   ]
  },
  {
   "cell_type": "code",
   "execution_count": null,
   "id": "e031f5ff-bcb8-4f3e-ab06-25645f2103ed",
   "metadata": {},
   "outputs": [],
   "source": [
    "KKK = K.reshape(-1, 1)"
   ]
  },
  {
   "cell_type": "code",
   "execution_count": null,
   "id": "68e953f5-fc80-4416-8088-7c2b01df9a3e",
   "metadata": {},
   "outputs": [],
   "source": [
    "formula = 'KKK ~ Te + I(Te^2) + I(Te^3) + I(Te^4)'"
   ]
  },
  {
   "cell_type": "code",
   "execution_count": null,
   "id": "cb3e28e6-e41b-4578-9d77-9ceca8c35272",
   "metadata": {},
   "outputs": [],
   "source": [
    "from sklearn import linear_model\n",
    "\n",
    "reg = linear_model.BayesianRidge()\n",
    "#reg.fit(Te.reshape(-1,1), formula)\n",
    "reg.fit(Te, formula)"
   ]
  },
  {
   "cell_type": "markdown",
   "id": "7ec6e676-4a3b-4c42-8c63-c6246b1488c8",
   "metadata": {},
   "source": [
    "### **Probando con curve_fit()**"
   ]
  },
  {
   "cell_type": "code",
   "execution_count": null,
   "id": "817f3787-f0d2-46a1-b31b-af09983cbab0",
   "metadata": {},
   "outputs": [],
   "source": [
    "from scipy.optimize import curve_fit\n",
    "\n",
    "# Reading variables from the sheet\n",
    "df = pd.read_excel('resultados_v2.xlsx', sheet_name='Kb')\n",
    "Tei = df.Te.to_numpy()\n",
    "Vi = df.V.to_numpy()\n",
    "Treali = df.Treal.to_numpy()\n",
    "\n",
    "# Define the function\n",
    "def DSC_T_function(Te, A, B, C, D):\n",
    "    # Generating NumPy Arrays\n",
    "    dT = Tei - Treali\n",
    "    dT = A*np.ones(dT.shape) + B*Tei + C*Vi + D*Vi**2\n",
    "    return dT\n"
   ]
  },
  {
   "cell_type": "code",
   "execution_count": null,
   "id": "b1263599-0115-4867-8efd-0fe7f47cf167",
   "metadata": {},
   "outputs": [],
   "source": [
    "parameters, covariance = curve_fit(DSC_T_function, Tei, dT)"
   ]
  },
  {
   "cell_type": "code",
   "execution_count": null,
   "id": "c805edc6-cee6-4fbd-8fd1-3ec18db2b603",
   "metadata": {},
   "outputs": [],
   "source": [
    "print(parameters)"
   ]
  },
  {
   "cell_type": "code",
   "execution_count": null,
   "id": "b303b1b0-2e68-4ae1-a8a6-3ded013b4e4c",
   "metadata": {},
   "outputs": [],
   "source": [
    "fit_A = parameters[0]\n",
    "fit_B = parameters[1]\n",
    "fit_C = parameters[2]\n",
    "fit_D = parameters[3]\n",
    "\n",
    "fit_DSC_func = DSC_T_function(Tei, fit_A, fit_B, fit_C, fit_D)\n",
    "\n",
    "# Gráfico del modelo\n",
    "#fig = plt.figure(figsize=(6, 3.84))\n",
    "fig2 = plt.figure(figsize=(12, 7.68))\n",
    "fig2.patch.set_facecolor(\"#6D9EC1\")\n",
    "fig2.patch.set_alpha(0.15)\n",
    "\n",
    "ax2 = fig2.add_subplot()\n",
    "ax2.patch.set_facecolor(\"#6D9EC1\")\n",
    "ax2.scatter(Tei, dT, marker='o', color = \"blacK\", facecolor = \"orange\", label='data')\n",
    "ax2.plot(Tei, fit_DSC_func, linestyle='--', color = \"blue\", label='fit')\n"
   ]
  },
  {
   "cell_type": "markdown",
   "id": "c817c750-6db0-40f0-82ca-a1ecb2aa8e50",
   "metadata": {},
   "source": [
    "## REFERENCIAS\n",
    "\n",
    "[1] \"Regresión lineal con Python\", Joaquín Amat Rodrigo, https://www.cienciadedatos.net/documentos/py10-regresion-lineal-python.html (CC BY 4.0)"
   ]
  }
 ],
 "metadata": {
  "kernelspec": {
   "display_name": "Python 3 (ipykernel)",
   "language": "python",
   "name": "python3"
  },
  "language_info": {
   "codemirror_mode": {
    "name": "ipython",
    "version": 3
   },
   "file_extension": ".py",
   "mimetype": "text/x-python",
   "name": "python",
   "nbconvert_exporter": "python",
   "pygments_lexer": "ipython3",
   "version": "3.10.6"
  }
 },
 "nbformat": 4,
 "nbformat_minor": 5
}

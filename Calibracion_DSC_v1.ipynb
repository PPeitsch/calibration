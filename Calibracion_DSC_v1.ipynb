{
 "cells": [
  {
   "cell_type": "markdown",
   "id": "e3ec06ba-bfc0-4c71-91d4-5efd462a0347",
   "metadata": {},
   "source": [
    "# **Procedimiento de calibración DSC**\n",
    "\n",
    "Frente a la necesidad de comenzar un nuevo proceso de calibración en el calorímetro DSC SETARAM, Labsys evo, se decide realizar el procedimiento elaborado en 2013 en un Notebook con la idea de introducir mejoras al mismo, si es posible.\n",
    "Comenzaremos repdroduciendo el modelo anterior utilizando la biblioteca de Python TAL LAL LAL, para posteriormente compararla con los resolutados obtenidos en MATLAB."
   ]
  },
  {
   "cell_type": "markdown",
   "id": "87f30e84-3612-40df-a2a2-806cfcbea1c0",
   "metadata": {},
   "source": [
    "## **Corrección en temperatura**\n",
    "___\n",
    "\n",
    "Para la calibración en temperatura se tomaron en cuenta simultáneamente los valores medidos de temperaturas de fusión y las velocidades de calentamiento utilizadas. Se construyó un sistema de ecuaciones lineales usando dichos valores medidos y velocidades seleccionadas como coeficientes conocidos, y los coeficientes de corrección como incógnitas que satisfacen las siguientes ecuaciones:\n",
    "\n",
    "dT=A0+A1.Te+A2.V+A3.V^2 (1)\n",
    "\n",
    "dT=Treal–Te (2)\n",
    "\n",
    "en donde\n",
    "\n",
    "A0, A1, A2 y A3 son los coeficientes de corrección, V: velocidad de calentamiento/enfriamiento, Te: temperatura medida, Treal: temperatura aceptada en literatura\n",
    "\n",
    "La expresión dada por la (ec. 1), especializada en los diferentes valores de velocidad de calentamiento utilizados y en las distintas temperaturas de inicio de transformación determinadas, da lugar a un sistema de ecuaciones que posee un número significativamente mayor de ecuaciones que de incógnitas. Esto es, un sistema de ecuaciones sobredeterminado. Estos sistemas no tienen solución; sin embargo, puede encontrarse una pseudosolución.\n",
    "Se optó por resolver el sistema de forma aproximada utilizando los métodos de mínimos cuadrados ordinarios y pseudoinversa de Moore-Penrose."
   ]
  },
  {
   "cell_type": "markdown",
   "id": "95fc3c4b-7b67-4f62-984a-29cf060212f7",
   "metadata": {},
   "source": [
    "## **Modelos de ajuste lineal**\n",
    "___\n",
    "\n",
    "un poco de modelos de ajuste lineal BLAH BLAH BLAH"
   ]
  },
  {
   "cell_type": "markdown",
   "id": "f4765518-3bf3-488e-8201-427e6e25cd15",
   "metadata": {},
   "source": [
    "## **Procedimiento en Python**\n",
    "___\n",
    "\n",
    "\n",
    "------> TESTO AQUI\n",
    "Importamos las variables desde una hoja de datos de Excel para luego procesarlas."
   ]
  },
  {
   "cell_type": "code",
   "execution_count": 1,
   "id": "927bba49-d79d-459d-8343-1074bd168f41",
   "metadata": {},
   "outputs": [
    {
     "name": "stdout",
     "output_type": "stream",
     "text": [
      "  Material     V     Te-A  Te-B  Treal-A  Treal-B   dT-A  dT-B\n",
      "0       In   1.0  153.826   NaN  156.599      NaN  2.773   NaN\n",
      "1       In   5.0  153.829   NaN  156.599      NaN  2.770   NaN\n",
      "2       In  10.0  153.669   NaN  156.599      NaN  2.930   NaN\n",
      "3       In  20.0  153.137   NaN  156.599      NaN  3.462   NaN\n",
      "4       In  50.0  152.623   NaN  156.599      NaN  3.976   NaN\n"
     ]
    }
   ],
   "source": [
    "# Dependencies import\n",
    "import numpy as np\n",
    "import pandas as pd\n",
    "\n",
    "# Reading variables from the sheet\n",
    "df = pd.read_excel('resultados_v1.xlsx', sheet_name='dT', header = 1)\n",
    "\n",
    "# Checking the header imported\n",
    "print(df.head(5))\n",
    "\n",
    "# Generating NumPy Arrays\n",
    "Te = df[\"Te-A\"].to_numpy()\n",
    "Treal = df[\"Treal-A\"].to_numpy()\n",
    "V = df.V.to_numpy()\n",
    "dT = Treal - Te\n",
    "T = np.array([np.ones(dT.shape), Te, V, V ** 2])"
   ]
  },
  {
   "cell_type": "markdown",
   "id": "f3a4e66a-6c38-47e9-a73a-2413a3c2317e",
   "metadata": {},
   "source": [
    "## Pseudoinversa Moore Penrose"
   ]
  },
  {
   "cell_type": "code",
   "execution_count": 2,
   "id": "c299c9e5-0a6f-428e-9ddf-4c7b863331c7",
   "metadata": {},
   "outputs": [
    {
     "name": "stdout",
     "output_type": "stream",
     "text": [
      "<class 'numpy.ndarray'> (62, 4) 248\n",
      "<class 'numpy.ndarray'> (62,) 62\n"
     ]
    }
   ],
   "source": [
    "# Penrose Matrix with NumPy array\n",
    "p = np.linalg.pinv(T)\n",
    "\n",
    "# Check dimensions\n",
    "print(type(p), np.shape(p), np.size(p))\n",
    "print(type(dT), np.shape(dT), np.size(dT))"
   ]
  },
  {
   "cell_type": "code",
   "execution_count": 3,
   "id": "e9b526fd-20a1-4c4f-b7de-495e79169635",
   "metadata": {},
   "outputs": [
    {
     "name": "stdout",
     "output_type": "stream",
     "text": [
      "<class 'numpy.ndarray'> (4, 62) 248\n",
      "Coefficients are:\n",
      "A0 = 5.03e+00\n",
      "A1 = -1.15e-03\n",
      "A2 = 4.93e-02\n",
      "A3 = -3.63e-04\n"
     ]
    }
   ],
   "source": [
    "# Transpose Penrose Matrix for array multiplication\n",
    "Tp = np.transpose(p)\n",
    "print(type(Tp), np.shape(Tp), np.size(Tp))\n",
    "\n",
    "# Multiplying matrix with NumPy array\n",
    "A = np.matmul(Tp, dT)\n",
    "\n",
    "# Show the coefficients\n",
    "print('Coefficients are:')\n",
    "for i in range(np.size(A)):\n",
    "    print(f'A{i} = {A[i]:.2e}')"
   ]
  },
  {
   "cell_type": "markdown",
   "id": "8046ab70-22f0-4265-98a2-7b1cf31c9200",
   "metadata": {},
   "source": [
    "## Mínimos cuadrados"
   ]
  },
  {
   "cell_type": "code",
   "execution_count": 4,
   "id": "812cbae8-b688-4b79-bbb8-669663ba290e",
   "metadata": {},
   "outputs": [
    {
     "name": "stdout",
     "output_type": "stream",
     "text": [
      "Coefficients are:\n",
      "A0 = 5.03e+00\n",
      "A1 = -1.15e-03\n",
      "A2 = 4.93e-02\n",
      "A3 = -3.63e-04\n"
     ]
    },
    {
     "name": "stderr",
     "output_type": "stream",
     "text": [
      "C:\\Users\\Pablo\\anaconda3\\envs\\dsc-calibration\\lib\\site-packages\\numpy\\core\\fromnumeric.py:3208: VisibleDeprecationWarning: Creating an ndarray from ragged nested sequences (which is a list-or-tuple of lists-or-tuples-or ndarrays with different lengths or shapes) is deprecated. If you meant to do this, you must specify 'dtype=object' when creating the ndarray.\n",
      "  return asarray(a).size\n"
     ]
    }
   ],
   "source": [
    "# Transpose original Matrix for array multiplication\n",
    "TT = np.transpose(T)\n",
    "\n",
    "# Obtaining coefficient through Least Squares\n",
    "X = np.linalg.lstsq(TT, dT, rcond = -1)\n",
    "\n",
    "# Show the coefficients\n",
    "print('Coefficients are:')\n",
    "for i in range(np.size(X)):\n",
    "    print(f'A{i} = {X[0][i]:.2e}')"
   ]
  },
  {
   "cell_type": "markdown",
   "id": "3a33a2c3-7ecb-4229-aa2d-2f73ff4ac025",
   "metadata": {},
   "source": [
    "## **Corrección en calor (Q)**\n",
    "___\n",
    "\n",
    "Para la calibración en calor se consideró la constante de sensibilidad K, que define el factor de proporcionalidad entre el área del pico medida, entre la curva y la linea de base, y el calor asociado a la transformación que ésta describe.\n",
    "\n",
    "K = (S/H).(1/m) (3)\n",
    "\n",
    "\n",
    "K=A0+A1.Te+A2.Te^2+A3.Te^3+A4.Te^4 (4)\n",
    "\n",
    "siendo\n",
    "A0, A1, A2, A3 y A4 son los coeficientes de corrección, Te: temperatura medida, m: masa, H: calor de fusión, S: área de pico (μV.s)\n",
    "\n",
    "En este caso, los valores experimentales a considerar como coeficientes conocidos son Te y S.\n",
    "Se aplicó la misma metodología que para corrección en temperatura y se tuvieron en cuenta las mismas consideraciones anteriormente mencionadas."
   ]
  },
  {
   "cell_type": "code",
   "execution_count": 5,
   "id": "452c748f-8bca-44d8-9e30-5837310ba447",
   "metadata": {},
   "outputs": [
    {
     "name": "stdout",
     "output_type": "stream",
     "text": [
      "  Material     V     Te-A  Te-B  Treal-A  Treal-B      S-A  S-B   H-A   H-B  \\\n",
      "0       In   1.0  153.826   NaN  156.599      NaN  718.830  NaN  28.5  28.5   \n",
      "1       In   5.0  153.829   NaN  156.599      NaN  690.485  NaN  28.5  28.5   \n",
      "2       In  10.0  153.669   NaN  156.599      NaN  672.261  NaN  28.5  28.5   \n",
      "3       In  20.0  153.137   NaN  156.599      NaN  657.725  NaN  28.5  28.5   \n",
      "4       In  50.0  152.623   NaN  156.599      NaN  527.595  NaN  28.5  28.5   \n",
      "\n",
      "       m  \n",
      "0  79.47  \n",
      "1  79.47  \n",
      "2  79.47  \n",
      "3  79.47  \n",
      "4  79.47  \n"
     ]
    }
   ],
   "source": [
    "# Reading variables from the sheet\n",
    "df = pd.read_excel('resultados_v1.xlsx', sheet_name='K', header = 1)\n",
    "\n",
    "# Checking the header imported\n",
    "print(df.head(5))\n",
    "\n",
    "# Generating NumPy Arrays\n",
    "Te = df[\"Te-A\"].to_numpy()\n",
    "H = df[\"H-A\"].to_numpy()\n",
    "S = df[\"S-A\"].to_numpy()\n",
    "m = df.m.to_numpy()\n",
    "K = (S/H)*(1/m)\n",
    "B = np.array([np.ones(Te.shape), Te, Te**2, Te**3, Te**4])"
   ]
  },
  {
   "cell_type": "code",
   "execution_count": 6,
   "id": "623f7727-afc2-4ec7-9fb9-e538a0fcd58e",
   "metadata": {},
   "outputs": [
    {
     "name": "stdout",
     "output_type": "stream",
     "text": [
      "(5, 62)\n"
     ]
    }
   ],
   "source": [
    "print(B.shape)"
   ]
  },
  {
   "cell_type": "markdown",
   "id": "743324e4-04d2-406a-966a-847fc111bff0",
   "metadata": {},
   "source": [
    "## Pseudoinversa Moore Penrose"
   ]
  },
  {
   "cell_type": "code",
   "execution_count": 7,
   "id": "10307fa2-ca6d-414d-8dd0-91dcc24e27f6",
   "metadata": {
    "tags": []
   },
   "outputs": [
    {
     "name": "stdout",
     "output_type": "stream",
     "text": [
      "<class 'numpy.ndarray'> (62, 5) 310\n",
      "<class 'numpy.ndarray'> (62,) 62\n"
     ]
    }
   ],
   "source": [
    "# Penrose Matrix with NumPy array\n",
    "pB = np.linalg.pinv(B)\n",
    "\n",
    "# Check dimensions\n",
    "print(type(pB), np.shape(pB), np.size(pB))\n",
    "print(type(K), np.shape(K), np.size(K))"
   ]
  },
  {
   "cell_type": "code",
   "execution_count": 8,
   "id": "1ddf78ba-8f49-497d-bfa0-c2a44242062d",
   "metadata": {},
   "outputs": [
    {
     "name": "stdout",
     "output_type": "stream",
     "text": [
      "<class 'numpy.ndarray'> (5, 62) 310\n",
      "Coefficients are:\n",
      "C0 = 2.8813e-01\n",
      "C1 = 6.7788e-05\n",
      "C2 = -7.4088e-07\n",
      "C3 = 9.5213e-10\n",
      "C4 = -3.5929e-13\n"
     ]
    }
   ],
   "source": [
    "# Transpose Penrose Matrix for array multiplication\n",
    "TpB = np.transpose(pB)\n",
    "print(type(TpB), np.shape(TpB), np.size(TpB))\n",
    "\n",
    "# Multiplying matrix with NumPy array\n",
    "C = np.matmul(TpB, K)\n",
    "\n",
    "# Show the coefficients\n",
    "print('Coefficients are:')\n",
    "for i in range(B.shape[0]):\n",
    "    print(f'C{i} = {C[i]:.4e}')"
   ]
  },
  {
   "cell_type": "markdown",
   "id": "cc59b0cb-c1f7-4b19-a757-138d5f29ff40",
   "metadata": {
    "tags": []
   },
   "source": [
    "## Mínimos cuadrados"
   ]
  },
  {
   "cell_type": "code",
   "execution_count": 9,
   "id": "79fcb970-00b4-4977-a973-759112295bb3",
   "metadata": {},
   "outputs": [
    {
     "name": "stdout",
     "output_type": "stream",
     "text": [
      "Coefficients are:\n",
      "D0 = 2.8813e-01\n",
      "D1 = 6.7786e-05\n",
      "D2 = -7.4087e-07\n",
      "D3 = 9.5212e-10\n",
      "D4 = -3.5928e-13\n"
     ]
    }
   ],
   "source": [
    "# Transpose original Matrix for array multiplication\n",
    "TB = np.transpose(B)\n",
    "\n",
    "# Obtaining coefficient through Least Squares\n",
    "D = np.linalg.lstsq(TB, K, rcond = -1)\n",
    "\n",
    "# Show the coefficients\n",
    "print('Coefficients are:')\n",
    "for u in range(B.shape[0]):\n",
    "    print(f'D{u} = {D[0][u]:.4e}')"
   ]
  },
  {
   "cell_type": "markdown",
   "id": "349d6300-82d0-4a34-9e1e-4264d181014e",
   "metadata": {
    "tags": []
   },
   "source": [
    "## Agrego límites teóricos"
   ]
  },
  {
   "cell_type": "code",
   "execution_count": 10,
   "id": "ebd25e12-451e-4fcf-88cf-04cd210c0946",
   "metadata": {},
   "outputs": [],
   "source": [
    "Te = np.append(Te,[-273.0],axis= 0)\n",
    "Te = np.append(Te,[1600],axis= 0)\n",
    "K = np.append(K,[0.0],axis= 0)\n",
    "K = np.append(K,[0.1],axis= 0)\n",
    "\n",
    "B = np.array([np.ones(Te.shape), Te, Te**2, Te**3, Te**4])"
   ]
  },
  {
   "cell_type": "code",
   "execution_count": 11,
   "id": "ad229fd8-1610-4ff6-8fb1-23c9679ae753",
   "metadata": {},
   "outputs": [
    {
     "data": {
      "text/plain": [
       "(64,)"
      ]
     },
     "execution_count": 11,
     "metadata": {},
     "output_type": "execute_result"
    }
   ],
   "source": [
    "np.shape(Te)"
   ]
  },
  {
   "cell_type": "markdown",
   "id": "6dada4ef-4a9e-4dd8-bcef-9219aed59415",
   "metadata": {},
   "source": [
    "## Pseudoinversa Moore Penrose"
   ]
  },
  {
   "cell_type": "code",
   "execution_count": 12,
   "id": "4c5f9300-9613-4723-b3af-2bee7e134bdc",
   "metadata": {
    "tags": []
   },
   "outputs": [
    {
     "name": "stdout",
     "output_type": "stream",
     "text": [
      "<class 'numpy.ndarray'> (64, 5) 320\n",
      "<class 'numpy.ndarray'> (64,) 64\n"
     ]
    }
   ],
   "source": [
    "# Penrose Matrix with NumPy array\n",
    "pB = np.linalg.pinv(B)\n",
    "\n",
    "# Check dimensions\n",
    "print(type(pB), np.shape(pB), np.size(pB))\n",
    "print(type(K), np.shape(K), np.size(K))"
   ]
  },
  {
   "cell_type": "code",
   "execution_count": 13,
   "id": "f16b6b2c-8599-40c0-a3b7-2cd167af21c9",
   "metadata": {},
   "outputs": [
    {
     "name": "stdout",
     "output_type": "stream",
     "text": [
      "<class 'numpy.ndarray'> (5, 64) 320\n",
      "Coefficients are:\n",
      "C0 = 2.5029e-01\n",
      "C1 = 3.8456e-04\n",
      "C2 = -1.4298e-06\n",
      "C3 = 1.5062e-09\n",
      "C4 = -5.0743e-13\n"
     ]
    }
   ],
   "source": [
    "# Transpose Penrose Matrix for array multiplication\n",
    "TpB = np.transpose(pB)\n",
    "print(type(TpB), np.shape(TpB), np.size(TpB))\n",
    "\n",
    "# Multiplying matrix with NumPy array\n",
    "C = np.matmul(TpB, K)\n",
    "\n",
    "# Show the coefficients\n",
    "print('Coefficients are:')\n",
    "for i in range(B.shape[0]):\n",
    "    print(f'C{i} = {C[i]:.4e}')"
   ]
  },
  {
   "cell_type": "markdown",
   "id": "311cf75d-8d6d-4a14-b3e5-b38fb2c36f44",
   "metadata": {},
   "source": [
    "___"
   ]
  },
  {
   "cell_type": "code",
   "execution_count": null,
   "id": "08919120-ca65-4bf2-964f-c00c7c59ef44",
   "metadata": {},
   "outputs": [],
   "source": []
  }
 ],
 "metadata": {
  "kernelspec": {
   "display_name": "Python 3 (ipykernel)",
   "language": "python",
   "name": "python3"
  },
  "language_info": {
   "codemirror_mode": {
    "name": "ipython",
    "version": 3
   },
   "file_extension": ".py",
   "mimetype": "text/x-python",
   "name": "python",
   "nbconvert_exporter": "python",
   "pygments_lexer": "ipython3",
   "version": "3.9.12"
  }
 },
 "nbformat": 4,
 "nbformat_minor": 5
}
